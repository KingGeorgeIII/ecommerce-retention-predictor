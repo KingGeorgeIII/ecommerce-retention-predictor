{
 "cells": [
  {
   "cell_type": "markdown",
   "metadata": {},
   "source": [
    "# Data Simulation and Ingestion\n",
    "\n",
    "This notebook generates synthetic e-commerce data to simulate:\n",
    "- Customer profiles\n",
    "- Product catalog\n",
    "- Transaction history\n",
    "\n",
    "The data is saved to the raw data layer for further processing."
   ]
  },
  {
   "cell_type": "code",
   "execution_count": null,
   "metadata": {},
   "outputs": [],
   "source": [
    "import pandas as pd\n",
    "import numpy as np\n",
    "from faker import Faker\n",
    "import random\n",
    "from datetime import datetime, timedelta\n",
    "import os\n",
    "\n",
    "# Set random seeds for reproducibility\n",
    "np.random.seed(42)\n",
    "random.seed(42)\n",
    "fake = Faker()\n",
    "Faker.seed(42)"
   ]
  },
  {
   "cell_type": "markdown",
   "metadata": {},
   "source": [
    "## Generate Customer Data"
   ]
  },
  {
   "cell_type": "code",
   "execution_count": null,
   "metadata": {},
   "outputs": [],
   "source": [
    "# Generate customer data\n",
    "def generate_customers(n_customers=10000):\n",
    "    customers = []\n",
    "    \n",
    "    for i in range(n_customers):\n",
    "        customer = {\n",
    "            'customer_id': f'CUST_{i+1:06d}',\n",
    "            'first_name': fake.first_name(),\n",
    "            'last_name': fake.last_name(),\n",
    "            'email': fake.email(),\n",
    "            'phone': fake.phone_number(),\n",
    "            'registration_date': fake.date_between(start_date='-2y', end_date='today'),\n",
    "            'age': np.random.randint(18, 80),\n",
    "            'gender': np.random.choice(['M', 'F', 'O'], p=[0.45, 0.45, 0.1]),\n",
    "            'city': fake.city(),\n",
    "            'state': fake.state(),\n",
    "            'country': 'USA',\n",
    "            'preferred_category': np.random.choice(['Electronics', 'Clothing', 'Books', 'Home', 'Sports'])\n",
    "        }\n",
    "        customers.append(customer)\n",
    "    \n",
    "    return pd.DataFrame(customers)\n",
    "\n",
    "customers_df = generate_customers()\n",
    "print(f\"Generated {len(customers_df)} customers\")\n",
    "customers_df.head()"
   ]
  },
  {
   "cell_type": "markdown",
   "metadata": {},
   "source": [
    "## Generate Product Data"
   ]
  },
  {
   "cell_type": "code",
   "execution_count": null,
   "metadata": {},
   "outputs": [],
   "source": [
    "# Generate product data\n",
    "def generate_products(n_products=1000):\n",
    "    categories = ['Electronics', 'Clothing', 'Books', 'Home', 'Sports']\n",
    "    products = []\n",
    "    \n",
    "    for i in range(n_products):\n",
    "        category = np.random.choice(categories)\n",
    "        product = {\n",
    "            'product_id': f'PROD_{i+1:06d}',\n",
    "            'product_name': fake.catch_phrase(),\n",
    "            'category': category,\n",
    "            'price': np.round(np.random.uniform(10, 500), 2),\n",
    "            'cost': 0,  # Will calculate as 60-80% of price\n",
    "            'brand': fake.company(),\n",
    "            'launch_date': fake.date_between(start_date='-5y', end_date='today'),\n",
    "            'rating': np.round(np.random.uniform(3.0, 5.0), 1),\n",
    "            'weight_kg': np.round(np.random.uniform(0.1, 10.0), 2)\n",
    "        }\n",
    "        # Calculate cost as 60-80% of price\n",
    "        product['cost'] = np.round(product['price'] * np.random.uniform(0.6, 0.8), 2)\n",
    "        products.append(product)\n",
    "    \n",
    "    return pd.DataFrame(products)\n",
    "\n",
    "products_df = generate_products()\n",
    "print(f\"Generated {len(products_df)} products\")\n",
    "products_df.head()"
   ]
  },
  {
   "cell_type": "markdown",
   "metadata": {},
   "source": [
    "## Generate Transaction Data"
   ]
  },
  {
   "cell_type": "code",
   "execution_count": null,
   "metadata": {},
   "outputs": [],
   "source": [
    "# Generate transaction data\n",
    "def generate_transactions(customers_df, products_df, n_transactions=50000):\n",
    "    transactions = []\n",
    "    customer_ids = customers_df['customer_id'].tolist()\n",
    "    product_ids = products_df['product_id'].tolist()\n",
    "    \n",
    "    # Create customer purchase patterns\n",
    "    customer_activity = {}\n",
    "    for customer_id in customer_ids:\n",
    "        # Some customers are more active than others\n",
    "        activity_level = np.random.choice(['low', 'medium', 'high'], p=[0.6, 0.3, 0.1])\n",
    "        if activity_level == 'low':\n",
    "            n_purchases = np.random.poisson(2)\n",
    "        elif activity_level == 'medium':\n",
    "            n_purchases = np.random.poisson(8)\n",
    "        else:\n",
    "            n_purchases = np.random.poisson(20)\n",
    "        \n",
    "        customer_activity[customer_id] = max(1, n_purchases)  # At least 1 purchase\n",
    "    \n",
    "    # Generate transactions\n",
    "    transaction_id = 1\n",
    "    for customer_id, n_purchases in customer_activity.items():\n",
    "        customer_reg_date = customers_df[customers_df['customer_id'] == customer_id]['registration_date'].iloc[0]\n",
    "        preferred_cat = customers_df[customers_df['customer_id'] == customer_id]['preferred_category'].iloc[0]\n",
    "        \n",
    "        for _ in range(n_purchases):\n",
    "            # Generate transaction date after registration\n",
    "            start_date = max(customer_reg_date, datetime.now().date() - timedelta(days=730))\n",
    "            transaction_date = fake.date_between(start_date=start_date, end_date='today')\n",
    "            \n",
    "            # Choose product (80% chance for preferred category)\n",
    "            if np.random.random() < 0.8:\n",
    "                available_products = products_df[products_df['category'] == preferred_cat]['product_id'].tolist()\n",
    "                if not available_products:\n",
    "                    product_id = np.random.choice(product_ids)\n",
    "                else:\n",
    "                    product_id = np.random.choice(available_products)\n",
    "            else:\n",
    "                product_id = np.random.choice(product_ids)\n",
    "            \n",
    "            # Get product details\n",
    "            product_info = products_df[products_df['product_id'] == product_id].iloc[0]\n",
    "            \n",
    "            transaction = {\n",
    "                'transaction_id': f'TXN_{transaction_id:08d}',\n",
    "                'customer_id': customer_id,\n",
    "                'product_id': product_id,\n",
    "                'transaction_date': transaction_date,\n",
    "                'quantity': np.random.choice([1, 2, 3], p=[0.7, 0.2, 0.1]),\n",
    "                'unit_price': product_info['price'],\n",
    "                'total_amount': 0,  # Will calculate\n",
    "                'discount_amount': 0,  # Will calculate\n",
    "                'payment_method': np.random.choice(['credit_card', 'debit_card', 'paypal', 'apple_pay'], \n",
    "                                                 p=[0.5, 0.3, 0.15, 0.05]),\n",
    "                'shipping_cost': np.round(np.random.uniform(0, 25), 2),\n",
    "                'order_status': np.random.choice(['completed', 'cancelled', 'returned'], \n",
    "                                               p=[0.85, 0.10, 0.05])\n",
    "            }\n",
    "            \n",
    "            # Calculate discount (0-20% chance)\n",
    "            if np.random.random() < 0.2:\n",
    "                transaction['discount_amount'] = np.round(transaction['unit_price'] * transaction['quantity'] * 0.1, 2)\n",
    "            \n",
    "            # Calculate total\n",
    "            subtotal = transaction['unit_price'] * transaction['quantity']\n",
    "            transaction['total_amount'] = subtotal - transaction['discount_amount'] + transaction['shipping_cost']\n",
    "            \n",
    "            transactions.append(transaction)\n",
    "            transaction_id += 1\n",
    "    \n",
    "    return pd.DataFrame(transactions)\n",
    "\n",
    "transactions_df = generate_transactions(customers_df, products_df)\n",
    "print(f\"Generated {len(transactions_df)} transactions\")\n",
    "transactions_df.head()"
   ]
  },
  {
   "cell_type": "markdown",
   "metadata": {},
   "source": [
    "## Data Quality Check"
   ]
  },
  {
   "cell_type": "code",
   "execution_count": null,
   "metadata": {},
   "outputs": [],
   "source": [
    "# Check data quality\n",
    "print(\"=== DATA QUALITY SUMMARY ===\")\n",
    "print(f\"\\nCustomers: {len(customers_df):,} records\")\n",
    "print(f\"Products: {len(products_df):,} records\")\n",
    "print(f\"Transactions: {len(transactions_df):,} records\")\n",
    "\n",
    "print(\"\\n=== CUSTOMERS DATA QUALITY ===\")\n",
    "print(customers_df.isnull().sum())\n",
    "\n",
    "print(\"\\n=== PRODUCTS DATA QUALITY ===\")\n",
    "print(products_df.isnull().sum())\n",
    "\n",
    "print(\"\\n=== TRANSACTIONS DATA QUALITY ===\")\n",
    "print(transactions_df.isnull().sum())\n",
    "\n",
    "print(\"\\n=== TRANSACTION STATISTICS ===\")\n",
    "print(f\"Date range: {transactions_df['transaction_date'].min()} to {transactions_df['transaction_date'].max()}\")\n",
    "print(f\"Average order value: ${transactions_df['total_amount'].mean():.2f}\")\n",
    "print(f\"Total revenue: ${transactions_df['total_amount'].sum():,.2f}\")"
   ]
  },
  {
   "cell_type": "markdown",
   "metadata": {},
   "source": [
    "## Save Data to Raw Layer"
   ]
  },
  {
   "cell_type": "code",
   "execution_count": null,
   "metadata": {},
   "outputs": [],
   "source": [
    "# Create output directory if it doesn't exist\n",
    "raw_data_path = '../data/raw/'\n",
    "os.makedirs(raw_data_path, exist_ok=True)\n",
    "\n",
    "# Save datasets\n",
    "customers_df.to_csv(f'{raw_data_path}/customers.csv', index=False)\n",
    "products_df.to_csv(f'{raw_data_path}/products.csv', index=False)\n",
    "transactions_df.to_csv(f'{raw_data_path}/transactions.csv', index=False)\n",
    "\n",
    "print(\"✅ Data successfully saved to raw data layer:\")\n",
    "print(f\"   - customers.csv: {len(customers_df):,} records\")\n",
    "print(f\"   - products.csv: {len(products_df):,} records\")\n",
    "print(f\"   - transactions.csv: {len(transactions_df):,} records\")"
   ]
  }
 ],
 "metadata": {
  "kernelspec": {
   "display_name": "Python 3",
   "language": "python",
   "name": "python3"
  },
  "language_info": {
   "codemirror_mode": {
    "name": "ipython",
    "version": 3
   },
   "file_extension": ".py",
   "mimetype": "text/x-python",
   "name": "python",
   "nbconvert_exporter": "python",
   "pygments_lexer": "ipython3",
   "version": "3.8.5"
  }
 },
 "nbformat": 4,
 "nbformat_minor": 4
}