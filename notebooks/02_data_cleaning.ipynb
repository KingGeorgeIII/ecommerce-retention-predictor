{
 "cells": [
  {
   "cell_type": "markdown",
   "metadata": {},
   "source": [
    "# Data Cleaning and Validation\n",
    "\n",
    "This notebook performs data cleaning and validation on the raw e-commerce data:\n",
    "- Handle missing values\n",
    "- Fix data type issues\n",
    "- Remove duplicates\n",
    "- Standardize formats\n",
    "- Validate data integrity\n",
    "\n",
    "Clean data is saved to the staging layer."
   ]
  },
  {
   "cell_type": "code",
   "execution_count": null,
   "metadata": {},
   "outputs": [],
   "source": [
    "import pandas as pd\n",
    "import numpy as np\n",
    "import matplotlib.pyplot as plt\n",
    "import seaborn as sns\n",
    "from datetime import datetime\n",
    "import os\n",
    "import warnings\n",
    "warnings.filterwarnings('ignore')\n",
    "\n",
    "plt.style.use('default')\n",
    "sns.set_palette('husl')"
   ]
  },
  {
   "cell_type": "markdown",
   "metadata": {},
   "source": [
    "## Load Raw Data"
   ]
  },
  {
   "cell_type": "code",
   "execution_count": null,
   "metadata": {},
   "outputs": [],
   "source": [
    "# Load raw data\n",
    "raw_data_path = '../data/raw/'\n",
    "\n",
    "customers_df = pd.read_csv(f'{raw_data_path}/customers.csv')\n",
    "products_df = pd.read_csv(f'{raw_data_path}/products.csv')\n",
    "transactions_df = pd.read_csv(f'{raw_data_path}/transactions.csv')\n",
    "\n",
    "print(\"=== RAW DATA LOADED ===\")\n",
    "print(f\"Customers: {len(customers_df):,} records\")\n",
    "print(f\"Products: {len(products_df):,} records\")\n",
    "print(f\"Transactions: {len(transactions_df):,} records\")"
   ]
  },
  {
   "cell_type": "markdown",
   "metadata": {},
   "source": [
    "## Data Quality Assessment"
   ]
  },
  {
   "cell_type": "code",
   "execution_count": null,
   "metadata": {},
   "outputs": [],
   "source": [
    "def data_quality_report(df, name):\n",
    "    print(f\"\\n=== {name.upper()} DATA QUALITY ===\")\n",
    "    print(f\"Shape: {df.shape}\")\n",
    "    print(f\"\\nMissing values:\")\n",
    "    missing = df.isnull().sum()\n",
    "    if missing.sum() > 0:\n",
    "        print(missing[missing > 0])\n",
    "    else:\n",
    "        print(\"No missing values found\")\n",
    "    \n",
    "    print(f\"\\nDuplicate rows: {df.duplicated().sum()}\")\n",
    "    print(f\"Data types:\")\n",
    "    print(df.dtypes)\n",
    "\n",
    "data_quality_report(customers_df, 'customers')\n",
    "data_quality_report(products_df, 'products')\n",
    "data_quality_report(transactions_df, 'transactions')"
   ]
  },
  {
   "cell_type": "markdown",
   "metadata": {},
   "source": [
    "## Clean Customer Data"
   ]
  },
  {
   "cell_type": "code",
   "execution_count": null,
   "metadata": {},
   "outputs": [],
   "source": [
    "# Clean customer data\n",
    "customers_clean = customers_df.copy()\n",
    "\n",
    "# Convert date columns\n",
    "customers_clean['registration_date'] = pd.to_datetime(customers_clean['registration_date'])\n",
    "\n",
    "# Standardize text fields\n",
    "customers_clean['first_name'] = customers_clean['first_name'].str.strip().str.title()\n",
    "customers_clean['last_name'] = customers_clean['last_name'].str.strip().str.title()\n",
    "customers_clean['email'] = customers_clean['email'].str.lower().str.strip()\n",
    "customers_clean['city'] = customers_clean['city'].str.strip().str.title()\n",
    "customers_clean['state'] = customers_clean['state'].str.strip().str.upper()\n",
    "\n",
    "# Remove duplicates based on email (keep first)\n",
    "customers_clean = customers_clean.drop_duplicates(subset=['email'], keep='first')\n",
    "\n",
    "# Validate age ranges\n",
    "customers_clean = customers_clean[(customers_clean['age'] >= 18) & (customers_clean['age'] <= 100)]\n",
    "\n",
    "# Validate registration dates (not in the future)\n",
    "customers_clean = customers_clean[customers_clean['registration_date'] <= datetime.now()]\n",
    "\n",
    "print(f\"✅ Customer data cleaned: {len(customers_df)} → {len(customers_clean)} records\")\n",
    "print(f\"   Removed {len(customers_df) - len(customers_clean)} records\")\n",
    "\n",
    "customers_clean.head()"
   ]
  },
  {
   "cell_type": "markdown",
   "metadata": {},
   "source": [
    "## Clean Product Data"
   ]
  },
  {
   "cell_type": "code",
   "execution_count": null,
   "metadata": {},
   "outputs": [],
   "source": [
    "# Clean product data\n",
    "products_clean = products_df.copy()\n",
    "\n",
    "# Convert date columns\n",
    "products_clean['launch_date'] = pd.to_datetime(products_clean['launch_date'])\n",
    "\n",
    "# Standardize text fields\n",
    "products_clean['product_name'] = products_clean['product_name'].str.strip().str.title()\n",
    "products_clean['brand'] = products_clean['brand'].str.strip().str.title()\n",
    "products_clean['category'] = products_clean['category'].str.strip().str.title()\n",
    "\n",
    "# Remove duplicates based on product_name and brand\n",
    "products_clean = products_clean.drop_duplicates(subset=['product_name', 'brand'], keep='first')\n",
    "\n",
    "# Validate price and cost\n",
    "products_clean = products_clean[(products_clean['price'] > 0) & (products_clean['cost'] >= 0)]\n",
    "products_clean = products_clean[products_clean['cost'] <= products_clean['price']]\n",
    "\n",
    "# Validate rating\n",
    "products_clean = products_clean[(products_clean['rating'] >= 1.0) & (products_clean['rating'] <= 5.0)]\n",
    "\n",
    "# Validate weight\n",
    "products_clean = products_clean[(products_clean['weight_kg'] > 0) & (products_clean['weight_kg'] <= 50)]\n",
    "\n",
    "print(f\"✅ Product data cleaned: {len(products_df)} → {len(products_clean)} records\")\n",
    "print(f\"   Removed {len(products_df) - len(products_clean)} records\")\n",
    "\n",
    "products_clean.head()"
   ]
  },
  {
   "cell_type": "markdown",
   "metadata": {},
   "source": [
    "## Clean Transaction Data"
   ]
  },
  {
   "cell_type": "code",
   "execution_count": null,
   "metadata": {},
   "outputs": [],
   "source": [
    "# Clean transaction data\n",
    "transactions_clean = transactions_df.copy()\n",
    "\n",
    "# Convert date columns\n",
    "transactions_clean['transaction_date'] = pd.to_datetime(transactions_clean['transaction_date'])\n",
    "\n",
    "# Remove transactions with invalid customer or product IDs\n",
    "valid_customer_ids = set(customers_clean['customer_id'])\n",
    "valid_product_ids = set(products_clean['product_id'])\n",
    "\n",
    "initial_count = len(transactions_clean)\n",
    "transactions_clean = transactions_clean[\n",
    "    transactions_clean['customer_id'].isin(valid_customer_ids) &\n",
    "    transactions_clean['product_id'].isin(valid_product_ids)\n",
    "]\n",
    "\n",
    "# Validate quantity\n",
    "transactions_clean = transactions_clean[(transactions_clean['quantity'] > 0) & (transactions_clean['quantity'] <= 10)]\n",
    "\n",
    "# Validate monetary values\n",
    "transactions_clean = transactions_clean[\n",
    "    (transactions_clean['unit_price'] > 0) &\n",
    "    (transactions_clean['total_amount'] > 0) &\n",
    "    (transactions_clean['discount_amount'] >= 0) &\n",
    "    (transactions_clean['shipping_cost'] >= 0)\n",
    "]\n",
    "\n",
    "# Remove duplicates\n",
    "transactions_clean = transactions_clean.drop_duplicates(subset=['transaction_id'], keep='first')\n",
    "\n",
    "# Validate transaction dates (not in the future, not before customer registration)\n",
    "transactions_clean = transactions_clean[transactions_clean['transaction_date'] <= datetime.now()]\n",
    "\n",
    "# Add customer registration date check\n",
    "customer_reg_dates = customers_clean.set_index('customer_id')['registration_date'].to_dict()\n",
    "transactions_clean['customer_reg_date'] = transactions_clean['customer_id'].map(customer_reg_dates)\n",
    "transactions_clean = transactions_clean[transactions_clean['transaction_date'] >= transactions_clean['customer_reg_date']]\n",
    "transactions_clean = transactions_clean.drop('customer_reg_date', axis=1)\n",
    "\n",
    "print(f\"✅ Transaction data cleaned: {len(transactions_df)} → {len(transactions_clean)} records\")\n",
    "print(f\"   Removed {len(transactions_df) - len(transactions_clean)} records\")\n",
    "\n",
    "transactions_clean.head()"
   ]
  },
  {
   "cell_type": "markdown",
   "metadata": {},
   "source": [
    "## Data Validation and Integrity Checks"
   ]
  },
  {
   "cell_type": "code",
   "execution_count": null,
   "metadata": {},
   "outputs": [],
   "source": [
    "# Integrity checks\n",
    "print(\"=== DATA INTEGRITY VALIDATION ===\")\n",
    "\n",
    "# Check for orphaned transactions\n",
    "orphaned_customers = set(transactions_clean['customer_id']) - set(customers_clean['customer_id'])\n",
    "orphaned_products = set(transactions_clean['product_id']) - set(products_clean['product_id'])\n",
    "\n",
    "print(f\"Orphaned customer references: {len(orphaned_customers)}\")\n",
    "print(f\"Orphaned product references: {len(orphaned_products)}\")\n",
    "\n",
    "# Check unique constraints\n",
    "print(f\"\\nUnique customer IDs: {customers_clean['customer_id'].nunique()} (should equal {len(customers_clean)})\")\n",
    "print(f\"Unique product IDs: {products_clean['product_id'].nunique()} (should equal {len(products_clean)})\")\n",
    "print(f\"Unique transaction IDs: {transactions_clean['transaction_id'].nunique()} (should equal {len(transactions_clean)})\")\n",
    "\n",
    "# Check data ranges\n",
    "print(f\"\\nCustomer age range: {customers_clean['age'].min()} - {customers_clean['age'].max()}\")\n",
    "print(f\"Product price range: ${products_clean['price'].min():.2f} - ${products_clean['price'].max():.2f}\")\n",
    "print(f\"Transaction amount range: ${transactions_clean['total_amount'].min():.2f} - ${transactions_clean['total_amount'].max():.2f}\")\n",
    "\n",
    "# Date ranges\n",
    "print(f\"\\nCustomer registration dates: {customers_clean['registration_date'].min().date()} to {customers_clean['registration_date'].max().date()}\")\n",
    "print(f\"Transaction dates: {transactions_clean['transaction_date'].min().date()} to {transactions_clean['transaction_date'].max().date()}\")\n"
   ]
  },
  {
   "cell_type": "markdown",
   "metadata": {},
   "source": [
    "## Data Distribution Visualization"
   ]
  },
  {
   "cell_type": "code",
   "execution_count": null,
   "metadata": {},
   "outputs": [],
   "source": [
    "# Create visualizations\n",
    "fig, axes = plt.subplots(2, 3, figsize=(18, 12))\n",
    "\n",
    "# Customer age distribution\n",
    "axes[0, 0].hist(customers_clean['age'], bins=30, alpha=0.7, edgecolor='black')\n",
    "axes[0, 0].set_title('Customer Age Distribution')\n",
    "axes[0, 0].set_xlabel('Age')\n",
    "axes[0, 0].set_ylabel('Count')\n",
    "\n",
    "# Product price distribution\n",
    "axes[0, 1].hist(products_clean['price'], bins=30, alpha=0.7, edgecolor='black')\n",
    "axes[0, 1].set_title('Product Price Distribution')\n",
    "axes[0, 1].set_xlabel('Price ($)')\n",
    "axes[0, 1].set_ylabel('Count')\n",
    "\n",
    "# Transaction amount distribution\n",
    "axes[0, 2].hist(transactions_clean['total_amount'], bins=30, alpha=0.7, edgecolor='black')\n",
    "axes[0, 2].set_title('Transaction Amount Distribution')\n",
    "axes[0, 2].set_xlabel('Amount ($)')\n",
    "axes[0, 2].set_ylabel('Count')\n",
    "\n",
    "# Gender distribution\n",
    "gender_counts = customers_clean['gender'].value_counts()\n",
    "axes[1, 0].pie(gender_counts.values, labels=gender_counts.index, autopct='%1.1f%%')\n",
    "axes[1, 0].set_title('Customer Gender Distribution')\n",
    "\n",
    "# Product category distribution\n",
    "category_counts = products_clean['category'].value_counts()\n",
    "axes[1, 1].bar(category_counts.index, category_counts.values)\n",
    "axes[1, 1].set_title('Product Category Distribution')\n",
    "axes[1, 1].set_xlabel('Category')\n",
    "axes[1, 1].set_ylabel('Count')\n",
    "axes[1, 1].tick_params(axis='x', rotation=45)\n",
    "\n",
    "# Order status distribution\n",
    "status_counts = transactions_clean['order_status'].value_counts()\n",
    "axes[1, 2].pie(status_counts.values, labels=status_counts.index, autopct='%1.1f%%')\n",
    "axes[1, 2].set_title('Order Status Distribution')\n",
    "\n",
    "plt.tight_layout()\n",
    "plt.show()"
   ]
  },
  {
   "cell_type": "markdown",
   "metadata": {},
   "source": [
    "## Save Clean Data to Staging Layer"
   ]
  },
  {
   "cell_type": "code",
   "execution_count": null,
   "metadata": {},
   "outputs": [],
   "source": [
    "# Create output directory if it doesn't exist\n",
    "stage_data_path = '../data/stage/'\n",
    "os.makedirs(stage_data_path, exist_ok=True)\n",
    "\n",
    "# Save cleaned datasets\n",
    "customers_clean.to_csv(f'{stage_data_path}/cleaned_customers.csv', index=False)\n",
    "products_clean.to_csv(f'{stage_data_path}/cleaned_products.csv', index=False)\n",
    "transactions_clean.to_csv(f'{stage_data_path}/cleaned_transactions.csv', index=False)\n",
    "\n",
    "print(\"✅ Clean data successfully saved to staging layer:\")\n",
    "print(f\"   - cleaned_customers.csv: {len(customers_clean):,} records\")\n",
    "print(f\"   - cleaned_products.csv: {len(products_clean):,} records\")\n",
    "print(f\"   - cleaned_transactions.csv: {len(transactions_clean):,} records\")\n",
    "\n",
    "# Save data quality summary\n",
    "quality_summary = {\n",
    "    'cleaned_date': datetime.now().isoformat(),\n",
    "    'customers': {\n",
    "        'raw_count': len(customers_df),\n",
    "        'clean_count': len(customers_clean),\n",
    "        'removed_count': len(customers_df) - len(customers_clean)\n",
    "    },\n",
    "    'products': {\n",
    "        'raw_count': len(products_df),\n",
    "        'clean_count': len(products_clean),\n",
    "        'removed_count': len(products_df) - len(products_clean)\n",
    "    },\n",
    "    'transactions': {\n",
    "        'raw_count': len(transactions_df),\n",
    "        'clean_count': len(transactions_clean),\n",
    "        'removed_count': len(transactions_df) - len(transactions_clean)\n",
    "    }\n",
    "}\n",
    "\n",
    "import json\n",
    "with open(f'{stage_data_path}/data_quality_summary.json', 'w') as f:\n",
    "    json.dump(quality_summary, f, indent=2)\n",
    "\n",
    "print(\"\\n📊 Data quality summary saved to data_quality_summary.json\")"
   ]
  }
 ],
 "metadata": {
  "kernelspec": {
   "display_name": "Python 3",
   "language": "python",
   "name": "python3"
  },
  "language_info": {
   "codemirror_mode": {
    "name": "ipython",
    "version": 3
   },
   "file_extension": ".py",
   "mimetype": "text/x-python",
   "name": "python",
   "nbconvert_exporter": "python",
   "pygments_lexer": "ipython3",
   "version": "3.8.5"
  }
 },
 "nbformat": 4,
 "nbformat_minor": 4
}